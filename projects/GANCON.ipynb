{
 "cells": [
  {
   "cell_type": "code",
   "execution_count": 18,
   "metadata": {},
   "outputs": [],
   "source": [
    "import os, time\n",
    "import matplotlib.pyplot as plt\n",
    "import itertools\n",
    "import pickle\n",
    "import imageio\n",
    "import torch\n",
    "import torch.nn as nn\n",
    "import torch.nn.functional as F\n",
    "import torch.optim as optim\n",
    "from torchvision import datasets, transforms\n",
    "from torch.autograd import Variable\n",
    "import numpy as np"
   ]
  },
  {
   "cell_type": "code",
   "execution_count": 3,
   "metadata": {},
   "outputs": [],
   "source": [
    "# G(z) -- GENERATOR\n",
    "class generator(nn.Module):\n",
    "    # initializers\n",
    "    def __init__(self, d=128):\n",
    "        super(generator, self).__init__()\n",
    "        self.deconv1 = nn.ConvTranspose2d(100, d*8, 4, 1, 0)\n",
    "        self.deconv1_bn = nn.BatchNorm2d(d*8)\n",
    "        self.deconv2 = nn.ConvTranspose2d(d*8, d*4, 4, 2, 1)\n",
    "        self.deconv2_bn = nn.BatchNorm2d(d*4)\n",
    "        self.deconv3 = nn.ConvTranspose2d(d*4, d*2, 4, 2, 1)\n",
    "        self.deconv3_bn = nn.BatchNorm2d(d*2)\n",
    "        self.deconv4 = nn.ConvTranspose2d(d*2, d, 4, 2, 1)\n",
    "        self.deconv4_bn = nn.BatchNorm2d(d)\n",
    "        self.deconv5 = nn.ConvTranspose2d(d, 1, 4, 2, 1)\n",
    "\n",
    "    # weight_init\n",
    "    def weight_init(self, mean, std):\n",
    "        for m in self._modules:\n",
    "            normal_init(self._modules[m], mean, std)\n",
    "\n",
    "    # forward method\n",
    "    def forward(self, input):\n",
    "        # x = F.relu(self.deconv1(input))\n",
    "        x = F.relu(self.deconv1_bn(self.deconv1(input)))\n",
    "        x = F.relu(self.deconv2_bn(self.deconv2(x)))\n",
    "        x = F.relu(self.deconv3_bn(self.deconv3(x)))\n",
    "        x = F.relu(self.deconv4_bn(self.deconv4(x)))\n",
    "        x = F.tanh(self.deconv5(x))\n",
    "\n",
    "        return x"
   ]
  },
  {
   "cell_type": "code",
   "execution_count": 4,
   "metadata": {},
   "outputs": [],
   "source": [
    "class discriminator(nn.Module):\n",
    "    # initializers\n",
    "    def __init__(self, d=128):\n",
    "        super(discriminator, self).__init__()\n",
    "        self.conv1 = nn.Conv2d(1, d, 4, 2, 1)\n",
    "        self.conv2 = nn.Conv2d(d, d*2, 4, 2, 1)\n",
    "        self.conv2_bn = nn.BatchNorm2d(d*2)\n",
    "        self.conv3 = nn.Conv2d(d*2, d*4, 4, 2, 1)\n",
    "        self.conv3_bn = nn.BatchNorm2d(d*4)\n",
    "        self.conv4 = nn.Conv2d(d*4, d*8, 4, 2, 1)\n",
    "        self.conv4_bn = nn.BatchNorm2d(d*8)\n",
    "        self.conv5 = nn.Conv2d(d*8, 1, 4, 1, 0)\n",
    "\n",
    "    # weight_init\n",
    "    def weight_init(self, mean, std):\n",
    "        for m in self._modules:\n",
    "            normal_init(self._modules[m], mean, std)\n",
    "\n",
    "    # forward method\n",
    "    def forward(self, input):\n",
    "        x = F.leaky_relu(self.conv1(input), 0.2)\n",
    "        x = F.leaky_relu(self.conv2_bn(self.conv2(x)), 0.2)\n",
    "        x = F.leaky_relu(self.conv3_bn(self.conv3(x)), 0.2)\n",
    "        x = F.leaky_relu(self.conv4_bn(self.conv4(x)), 0.2)\n",
    "        x = F.sigmoid(self.conv5(x))\n",
    "\n",
    "        return x"
   ]
  },
  {
   "cell_type": "code",
   "execution_count": 5,
   "metadata": {},
   "outputs": [
    {
     "name": "stderr",
     "output_type": "stream",
     "text": [
      "/usr/local/lib/python3.5/dist-packages/ipykernel_launcher.py:7: UserWarning: volatile was removed and now has no effect. Use `with torch.no_grad():` instead.\n",
      "  import sys\n"
     ]
    }
   ],
   "source": [
    "def normal_init(m, mean, std):\n",
    "    if isinstance(m, nn.ConvTranspose2d) or isinstance(m, nn.Conv2d):\n",
    "        m.weight.data.normal_(mean, std)\n",
    "        m.bias.data.zero_()\n",
    "\n",
    "fixed_z_ = torch.randn((5 * 5, 100)).view(-1, 100, 1, 1)    # fixed noise\n",
    "fixed_z_ = Variable(fixed_z_.cuda(), volatile=True)"
   ]
  },
  {
   "cell_type": "code",
   "execution_count": 7,
   "metadata": {},
   "outputs": [],
   "source": [
    "def show_result(num_epoch, show = False, save = False, path = 'result.png', isFix=False):\n",
    "    z_ = torch.randn((5*5, 100)).view(-1, 100, 1, 1)\n",
    "    z_ = Variable(z_.cuda(), volatile=True)\n",
    "\n",
    "    G.eval()\n",
    "    if isFix:\n",
    "        test_images = G(fixed_z_)\n",
    "    else:\n",
    "        test_images = G(z_)\n",
    "    G.train()\n",
    "\n",
    "    size_figure_grid = 5\n",
    "    fig, ax = plt.subplots(size_figure_grid, size_figure_grid, figsize=(5, 5))\n",
    "    for i, j in itertools.product(range(size_figure_grid), range(size_figure_grid)):\n",
    "        ax[i, j].get_xaxis().set_visible(False)\n",
    "        ax[i, j].get_yaxis().set_visible(False)\n",
    "\n",
    "    for k in range(5*5):\n",
    "        i = k // 5\n",
    "        j = k % 5\n",
    "        ax[i, j].cla()\n",
    "        ax[i, j].imshow(test_images[k, 0].cpu().data.numpy(), cmap='gray')\n",
    "\n",
    "    label = 'Epoch {0}'.format(num_epoch)\n",
    "    fig.text(0.5, 0.04, label, ha='center')\n",
    "    plt.savefig(path)\n",
    "\n",
    "    if show:\n",
    "        plt.show()\n",
    "    else:\n",
    "        plt.close()\n",
    "        \n",
    "def show_train_hist(hist, show = False, save = False, path = 'Train_hist.png'):\n",
    "    x = range(len(hist['D_losses']))\n",
    "\n",
    "    y1 = hist['D_losses']\n",
    "    y2 = hist['G_losses']\n",
    "\n",
    "    plt.plot(x, y1, label='D_loss')\n",
    "    plt.plot(x, y2, label='G_loss')\n",
    "\n",
    "    plt.xlabel('Iter')\n",
    "    plt.ylabel('Loss')\n",
    "\n",
    "    plt.legend(loc=4)\n",
    "    plt.grid(True)\n",
    "    plt.tight_layout()\n",
    "\n",
    "    if save:\n",
    "        plt.savefig(path)\n",
    "\n",
    "    if show:\n",
    "        plt.show()\n",
    "    else:\n",
    "        plt.close()"
   ]
  },
  {
   "cell_type": "code",
   "execution_count": 8,
   "metadata": {},
   "outputs": [],
   "source": [
    "# training parameters\n",
    "batch_size = 128\n",
    "lr = 0.0002\n",
    "train_epoch = 20"
   ]
  },
  {
   "cell_type": "code",
   "execution_count": 9,
   "metadata": {},
   "outputs": [
    {
     "name": "stderr",
     "output_type": "stream",
     "text": [
      "/usr/local/lib/python3.5/dist-packages/torchvision/transforms/transforms.py:156: UserWarning: The use of the transforms.Scale transform is deprecated, please use transforms.Resize instead.\n",
      "  \"please use transforms.Resize instead.\")\n"
     ]
    },
    {
     "name": "stdout",
     "output_type": "stream",
     "text": [
      "Downloading http://yann.lecun.com/exdb/mnist/train-images-idx3-ubyte.gz\n",
      "Downloading http://yann.lecun.com/exdb/mnist/train-labels-idx1-ubyte.gz\n",
      "Downloading http://yann.lecun.com/exdb/mnist/t10k-images-idx3-ubyte.gz\n",
      "Downloading http://yann.lecun.com/exdb/mnist/t10k-labels-idx1-ubyte.gz\n",
      "Processing...\n",
      "Done!\n"
     ]
    }
   ],
   "source": [
    "# data_loader\n",
    "img_size = 64\n",
    "transform = transforms.Compose([\n",
    "        transforms.Scale(img_size),\n",
    "        transforms.ToTensor(),\n",
    "        transforms.Normalize(mean=(0.5, 0.5, 0.5), std=(0.5, 0.5, 0.5))\n",
    "])\n",
    "train_loader = torch.utils.data.DataLoader(\n",
    "    datasets.MNIST('data', train=True, download=True, transform=transform),\n",
    "    batch_size=batch_size, shuffle=True)"
   ]
  },
  {
   "cell_type": "code",
   "execution_count": null,
   "metadata": {},
   "outputs": [],
   "source": [
    "# train_loader.data"
   ]
  },
  {
   "cell_type": "code",
   "execution_count": 10,
   "metadata": {},
   "outputs": [
    {
     "data": {
      "text/plain": [
       "discriminator(\n",
       "  (conv1): Conv2d(1, 128, kernel_size=(4, 4), stride=(2, 2), padding=(1, 1))\n",
       "  (conv2): Conv2d(128, 256, kernel_size=(4, 4), stride=(2, 2), padding=(1, 1))\n",
       "  (conv2_bn): BatchNorm2d(256, eps=1e-05, momentum=0.1, affine=True)\n",
       "  (conv3): Conv2d(256, 512, kernel_size=(4, 4), stride=(2, 2), padding=(1, 1))\n",
       "  (conv3_bn): BatchNorm2d(512, eps=1e-05, momentum=0.1, affine=True)\n",
       "  (conv4): Conv2d(512, 1024, kernel_size=(4, 4), stride=(2, 2), padding=(1, 1))\n",
       "  (conv4_bn): BatchNorm2d(1024, eps=1e-05, momentum=0.1, affine=True)\n",
       "  (conv5): Conv2d(1024, 1, kernel_size=(4, 4), stride=(1, 1))\n",
       ")"
      ]
     },
     "execution_count": 10,
     "metadata": {},
     "output_type": "execute_result"
    }
   ],
   "source": [
    "# network\n",
    "G = generator(128)\n",
    "D = discriminator(128)\n",
    "G.weight_init(mean=0.0, std=0.02)\n",
    "D.weight_init(mean=0.0, std=0.02)\n",
    "G.cuda()\n",
    "D.cuda()"
   ]
  },
  {
   "cell_type": "code",
   "execution_count": 11,
   "metadata": {},
   "outputs": [],
   "source": [
    "# Binary Cross Entropy loss\n",
    "BCE_loss = nn.BCELoss()"
   ]
  },
  {
   "cell_type": "code",
   "execution_count": 12,
   "metadata": {},
   "outputs": [],
   "source": [
    "# Adam optimizer\n",
    "G_optimizer = optim.Adam(G.parameters(), lr=lr, betas=(0.5, 0.999))\n",
    "D_optimizer = optim.Adam(D.parameters(), lr=lr, betas=(0.5, 0.999))"
   ]
  },
  {
   "cell_type": "code",
   "execution_count": 13,
   "metadata": {},
   "outputs": [],
   "source": [
    "# results save folder\n",
    "if not os.path.isdir('MNIST_DCGAN_results'):\n",
    "    os.mkdir('MNIST_DCGAN_results')\n",
    "if not os.path.isdir('MNIST_DCGAN_results/Random_results'):\n",
    "    os.mkdir('MNIST_DCGAN_results/Random_results')\n",
    "if not os.path.isdir('MNIST_DCGAN_results/Fixed_results'):\n",
    "    os.mkdir('MNIST_DCGAN_results/Fixed_results')"
   ]
  },
  {
   "cell_type": "code",
   "execution_count": 14,
   "metadata": {},
   "outputs": [],
   "source": [
    "train_hist = {}\n",
    "train_hist['D_losses'] = []\n",
    "train_hist['G_losses'] = []\n",
    "train_hist['per_epoch_ptimes'] = []\n",
    "train_hist['total_ptime'] = []\n",
    "num_iter = 0"
   ]
  },
  {
   "cell_type": "code",
   "execution_count": 19,
   "metadata": {},
   "outputs": [
    {
     "name": "stdout",
     "output_type": "stream",
     "text": [
      "training start!\n",
      "0\n",
      "3.116257176057362 0.5683808841113088\n",
      "1\n",
      "3.4550060752961937 0.47290813111896707\n",
      "2\n",
      "3.5096890973939954 0.4977594440393865\n",
      "3\n",
      "3.409795150565885 0.5286748471147598\n",
      "4\n",
      "3.3796697952996517 0.47692563010256556\n",
      "5\n",
      "3.4436400378309586 0.4657925710495093\n",
      "6\n",
      "3.991146556473077 0.3224607467262158\n",
      "7\n",
      "3.3953603198017075 0.5501036892619247\n",
      "8\n",
      "3.754974347656406 0.42189560033110923\n",
      "9\n",
      "3.726423527896484 0.42810605948906083\n",
      "10\n",
      "3.961014992239744 0.3198930212318389\n",
      "11\n",
      "3.336749071179371 0.586820012099469\n",
      "12\n",
      "3.8496607270226804 0.3302530576544466\n",
      "13\n",
      "4.202248999877259 0.3927110215144625\n",
      "14\n",
      "3.8774321739996784 0.3972678055534008\n",
      "15\n",
      "3.745596110908144 0.38960526783519717\n"
     ]
    }
   ],
   "source": [
    "print('training start!')\n",
    "start_time = time.time()\n",
    "for epoch in range(train_epoch-4):\n",
    "    D_losses = []\n",
    "    G_losses = []\n",
    "    epoch_start_time = time.time()\n",
    "    for x_, _ in train_loader:\n",
    "        # train discriminator D\n",
    "        D.zero_grad()\n",
    "\n",
    "        mini_batch = x_.size()[0]\n",
    "\n",
    "        y_real_ = torch.ones(mini_batch)\n",
    "        y_fake_ = torch.zeros(mini_batch)\n",
    "\n",
    "        x_, y_real_, y_fake_ = Variable(x_.cuda()), Variable(y_real_.cuda()), Variable(y_fake_.cuda())\n",
    "        D_result = D(x_).squeeze()\n",
    "        D_real_loss = BCE_loss(D_result, y_real_)\n",
    "\n",
    "        z_ = torch.randn((mini_batch, 100)).view(-1, 100, 1, 1)\n",
    "        z_ = Variable(z_.cuda())\n",
    "        G_result = G(z_)\n",
    "\n",
    "        D_result = D(G_result).squeeze()\n",
    "        D_fake_loss = BCE_loss(D_result, y_fake_)\n",
    "        D_fake_score = D_result.data.mean()\n",
    "\n",
    "        D_train_loss = D_real_loss + D_fake_loss\n",
    "\n",
    "        D_train_loss.backward()\n",
    "        D_optimizer.step()\n",
    "\n",
    "        # D_losses.append(D_train_loss.data[0])\n",
    "        D_losses.append(D_train_loss.data[0])\n",
    "\n",
    "        # train generator G\n",
    "        G.zero_grad()\n",
    "\n",
    "        z_ = torch.randn((mini_batch, 100)).view(-1, 100, 1, 1)\n",
    "        z_ = Variable(z_.cuda())\n",
    "\n",
    "        G_result = G(z_)\n",
    "        D_result = D(G_result).squeeze()\n",
    "        G_train_loss = BCE_loss(D_result, y_real_)\n",
    "        G_train_loss.backward()\n",
    "        G_optimizer.step()\n",
    "\n",
    "        G_losses.append(G_train_loss.data[0])\n",
    "\n",
    "        num_iter += 1\n",
    "    \n",
    "    epoch_end_time = time.time()\n",
    "    per_epoch_ptime = epoch_end_time - epoch_start_time\n",
    "    print('[%d/%d] - ptime: %.2f, loss_d: %.3f, loss_g: %.3f' % ((epoch + 1), train_epoch, per_epoch_ptime, torch.mean(torch.FloatTensor(D_losses)),\n",
    "                                                              torch.mean(torch.FloatTensor(G_losses))))\n",
    "    p = 'MNIST_DCGAN_results/Random_results/MNIST_DCGAN_' + str(epoch + 1) + '.png'\n",
    "    fixed_p = 'MNIST_DCGAN_results/Fixed_results/MNIST_DCGAN_' + str(epoch + 1) + '.png'\n",
    "    show_result((epoch+1), save=True, path=p, isFix=False)\n",
    "    show_result((epoch+1), save=True, path=fixed_p, isFix=True)\n",
    "    train_hist['D_losses'].append(torch.mean(torch.FloatTensor(D_losses)))\n",
    "    train_hist['G_losses'].append(torch.mean(torch.FloatTensor(G_losses)))\n",
    "    train_hist['per_epoch_ptimes'].append(per_epoch_ptime)"
   ]
  },
  {
   "cell_type": "code",
   "execution_count": 21,
   "metadata": {},
   "outputs": [],
   "source": [
    "z_ = torch.randn((mini_batch, 100)).view(-1, 100, 1, 1)\n",
    "z_ = Variable(z_.cuda())\n",
    "G_result = G(z_)"
   ]
  },
  {
   "cell_type": "code",
   "execution_count": 32,
   "metadata": {},
   "outputs": [
    {
     "data": {
      "text/plain": [
       "<matplotlib.image.AxesImage at 0x7f1c700526a0>"
      ]
     },
     "execution_count": 32,
     "metadata": {},
     "output_type": "execute_result"
    },
    {
     "data": {
      "image/png": "[encoded data removed]",
      "text/plain": [
       "<matplotlib.figure.Figure at 0x7f1c700a44e0>"
      ]
     },
     "metadata": {},
     "output_type": "display_data"
    }
   ],
   "source": [
    "plt.imshow(G_result.cpu().data.numpy()[3,0], cmap=\"gray\")"
   ]
  },
  {
   "cell_type": "code",
   "execution_count": 30,
   "metadata": {},
   "outputs": [
    {
     "data": {
      "text/plain": [
       "(96, 1, 64, 64)"
      ]
     },
     "execution_count": 30,
     "metadata": {},
     "output_type": "execute_result"
    }
   ],
   "source": [
    "G_result.cpu().data.numpy().shape"
   ]
  },
  {
   "cell_type": "markdown",
   "metadata": {},
   "source": [
    "## Classifier"
   ]
  },
  {
   "cell_type": "code",
   "execution_count": 33,
   "metadata": {},
   "outputs": [],
   "source": [
    "class Net(nn.Module):\n",
    "\n",
    "    def __init__(self):\n",
    "        super(Net, self).__init__()\n",
    "        # 1 input image channel, 6 output channels, 5x5 square convolution\n",
    "        # kernel\n",
    "        self.conv1 = nn.Conv2d(1, 6, 5)\n",
    "        self.conv2 = nn.Conv2d(6, 10, 3)\n",
    "        # an affine operation: y = Wx + b\n",
    "        self.fc1 = nn.Linear(10 * 5 * 5, 120)\n",
    "        self.fc2 = nn.Linear(120, 84)\n",
    "        self.fc3 = nn.Linear(84, 10)\n",
    "\n",
    "    def forward(self, x):\n",
    "        # Max pooling over a (2, 2) window\n",
    "        x = F.max_pool2d(F.relu(self.conv1(x)), (2, 2))\n",
    "        # If the size is a square you can only specify a single number\n",
    "        x = F.max_pool2d(F.relu(self.conv2(x)), 2)\n",
    "        x = x.view(-1, self.num_flat_features(x))\n",
    "        x = F.relu(self.fc1(x))\n",
    "        x = F.relu(self.fc2(x))\n",
    "        x = self.fc3(x)\n",
    "        return x\n",
    "    def num_flat_features(self, x):\n",
    "        size = x.size()[1:]  # all dimensions except the batch dimension\n",
    "        num_features = 1\n",
    "        for s in size:\n",
    "            num_features *= s\n",
    "        return num_features"
   ]
  },
  {
   "cell_type": "code",
   "execution_count": 34,
   "metadata": {},
   "outputs": [],
   "source": [
    "net = Net()\n",
    "import pickle\n",
    "net.load_state_dict(pickle.load(open(\"trained_mnist_classifier.pkl\",\"rb\")))"
   ]
  },
  {
   "cell_type": "code",
   "execution_count": 81,
   "metadata": {},
   "outputs": [
    {
     "data": {
      "text/plain": [
       "Net(\n",
       "  (conv1): Conv2d(1, 6, kernel_size=(5, 5), stride=(1, 1))\n",
       "  (conv2): Conv2d(6, 10, kernel_size=(3, 3), stride=(1, 1))\n",
       "  (fc1): Linear(in_features=250, out_features=120, bias=True)\n",
       "  (fc2): Linear(in_features=120, out_features=84, bias=True)\n",
       "  (fc3): Linear(in_features=84, out_features=10, bias=True)\n",
       ")"
      ]
     },
     "execution_count": 81,
     "metadata": {},
     "output_type": "execute_result"
    }
   ],
   "source": [
    "# list(net.parameters())\n",
    "net.cuda()"
   ]
  },
  {
   "cell_type": "code",
   "execution_count": 85,
   "metadata": {},
   "outputs": [
    {
     "data": {
      "text/plain": [
       "Variable containing:\n",
       " 3\n",
       "[torch.cuda.LongTensor of size (1,) (GPU 0)]"
      ]
     },
     "execution_count": 85,
     "metadata": {},
     "output_type": "execute_result"
    }
   ],
   "source": [
    "input = torch.FloatTensor(RescaleTrans(Image.fromarray(G_result[0,0].cpu().mul(0.5).add(0.5).mul(255).byte().numpy())).numpy())\n",
    "input = Variable(input.cuda())\n",
    "\n",
    "_,pred = torch.max(net(torch.unsqueeze(input,0)),1)\n",
    "pred"
   ]
  },
  {
   "cell_type": "code",
   "execution_count": 79,
   "metadata": {},
   "outputs": [
    {
     "name": "stderr",
     "output_type": "stream",
     "text": [
      "/usr/local/lib/python3.5/dist-packages/torchvision/transforms/transforms.py:156: UserWarning: The use of the transforms.Scale transform is deprecated, please use transforms.Resize instead.\n",
      "  \"please use transforms.Resize instead.\")\n"
     ]
    },
    {
     "data": {
      "text/plain": [
       "\n",
       "(0 ,.,.) = \n",
       "\n",
       "Columns 0 to 8 \n",
       "   0.0039  0.0078  0.0039  0.0039  0.0000  0.0078  0.0039  0.0039  0.0078\n",
       "  0.0078  0.0118  0.0078  0.0118  0.0078  0.0157  0.0118  0.0078  0.0078\n",
       "  0.0078  0.0118  0.0118  0.0235  0.0235  0.0196  0.0157  0.0118  0.0078\n",
       "  0.0118  0.0118  0.0078  0.0157  0.0275  0.0157  0.0196  0.0157  0.0157\n",
       "  0.0118  0.0157  0.0118  0.0118  0.0196  0.0235  0.0196  0.0196  0.0353\n",
       "  0.0078  0.0157  0.0157  0.0118  0.0078  0.0235  0.0196  0.0157  0.0196\n",
       "  0.0078  0.0196  0.0196  0.0157  0.0118  0.0196  0.0314  0.0196  0.0157\n",
       "  0.0118  0.0196  0.0118  0.0078  0.0157  0.0196  0.0118  0.0118  0.0118\n",
       "  0.0118  0.0157  0.0157  0.0078  0.0118  0.0353  0.0157  0.0118  0.0118\n",
       "  0.0078  0.0157  0.0196  0.0157  0.0118  0.0157  0.0157  0.0118  0.0235\n",
       "  0.0078  0.0157  0.0118  0.0118  0.0196  0.0118  0.0118  0.0118  0.0275\n",
       "  0.0039  0.0118  0.0157  0.0078  0.0157  0.0235  0.0196  0.0157  0.0196\n",
       "  0.0039  0.0078  0.0118  0.0118  0.0078  0.0235  0.0078  0.0157  0.0902\n",
       "  0.0078  0.0157  0.0118  0.0118  0.0118  0.0196  0.0118  0.0314  0.2510\n",
       "  0.0078  0.0157  0.0157  0.0078  0.0118  0.0078  0.0039  0.0118  0.0863\n",
       "  0.0118  0.0157  0.0196  0.0078  0.0157  0.0588  0.0588  0.0157  0.0078\n",
       "  0.0118  0.0157  0.0118  0.0118  0.0667  0.3294  0.3922  0.1373  0.0196\n",
       "  0.0118  0.0235  0.0157  0.0118  0.0902  0.4980  0.7608  0.4510  0.1098\n",
       "  0.0039  0.0235  0.0235  0.0118  0.0549  0.3412  0.7843  0.7686  0.3961\n",
       "  0.0039  0.0118  0.0196  0.0118  0.0196  0.1333  0.4980  0.7765  0.7804\n",
       "  0.0078  0.0196  0.0275  0.0157  0.0118  0.0314  0.1294  0.3686  0.6627\n",
       "  0.0118  0.0235  0.0078  0.0118  0.0118  0.0196  0.0196  0.0745  0.1961\n",
       "  0.0118  0.0235  0.0157  0.0118  0.0118  0.0392  0.0235  0.0196  0.0235\n",
       "  0.0078  0.0157  0.0196  0.0078  0.0078  0.0078  0.0118  0.0157  0.0196\n",
       "  0.0078  0.0157  0.0078  0.0078  0.0078  0.0039  0.0039  0.0039  0.0078\n",
       "  0.0039  0.0118  0.0157  0.0118  0.0118  0.0078  0.0118  0.0039  0.0078\n",
       "  0.0000  0.0039  0.0078  0.0196  0.0196  0.0078  0.0078  0.0039  0.0039\n",
       "  0.0039  0.0078  0.0078  0.0196  0.0196  0.0078  0.0039  0.0000  0.0000\n",
       "\n",
       "Columns 9 to 17 \n",
       "   0.0039  0.0039  0.0118  0.0078  0.0118  0.0118  0.0157  0.0078  0.0078\n",
       "  0.0078  0.0078  0.0118  0.0118  0.0118  0.0118  0.0157  0.0196  0.0196\n",
       "  0.0196  0.0667  0.1608  0.1804  0.1216  0.0392  0.0157  0.0196  0.0196\n",
       "  0.1020  0.3804  0.7059  0.7608  0.5765  0.2667  0.0941  0.0314  0.0157\n",
       "  0.2118  0.5725  0.7176  0.7451  0.7176  0.6431  0.4392  0.2000  0.0863\n",
       "  0.0706  0.1569  0.1608  0.1725  0.2235  0.4392  0.6863  0.6667  0.4549\n",
       "  0.0118  0.0157  0.0157  0.0196  0.0235  0.0863  0.2941  0.5451  0.5647\n",
       "  0.0118  0.0078  0.0078  0.0157  0.0078  0.0118  0.0510  0.1216  0.1412\n",
       "  0.0118  0.0078  0.0078  0.0196  0.0118  0.0078  0.0078  0.0078  0.0039\n",
       "  0.0118  0.0157  0.0078  0.0196  0.0157  0.0118  0.0157  0.0196  0.0157\n",
       "  0.0157  0.0157  0.0196  0.0235  0.0588  0.1059  0.1843  0.2118  0.1882\n",
       "  0.0627  0.0941  0.1490  0.1882  0.3451  0.5333  0.7176  0.7294  0.6824\n",
       "  0.3059  0.4941  0.6902  0.7255  0.7255  0.7216  0.6235  0.4353  0.3569\n",
       "  0.6706  0.7608  0.7686  0.6510  0.3137  0.2000  0.1333  0.0745  0.0549\n",
       "  0.2471  0.2863  0.2196  0.1608  0.0471  0.0275  0.0196  0.0196  0.0118\n",
       "  0.0196  0.0275  0.0157  0.0196  0.0078  0.0118  0.0118  0.0196  0.0157\n",
       "  0.0078  0.0157  0.0078  0.0196  0.0157  0.0078  0.0157  0.0157  0.0431\n",
       "  0.0196  0.0118  0.0157  0.0078  0.0118  0.0039  0.0196  0.0392  0.1529\n",
       "  0.1176  0.0353  0.0314  0.0118  0.0196  0.0275  0.0745  0.2471  0.4431\n",
       "  0.4667  0.2431  0.2039  0.1608  0.1961  0.2392  0.4039  0.6902  0.7059\n",
       "  0.7569  0.7176  0.7255  0.6667  0.6667  0.6314  0.6039  0.5020  0.2824\n",
       "  0.3686  0.5725  0.6000  0.5176  0.3765  0.3294  0.2118  0.1059  0.0431\n",
       "  0.0510  0.1098  0.1059  0.0941  0.0510  0.0431  0.0196  0.0078  0.0157\n",
       "  0.0078  0.0235  0.0078  0.0157  0.0078  0.0078  0.0196  0.0078  0.0196\n",
       "  0.0078  0.0078  0.0078  0.0078  0.0039  0.0039  0.0196  0.0118  0.0039\n",
       "  0.0157  0.0078  0.0157  0.0078  0.0118  0.0078  0.0196  0.0157  0.0039\n",
       "  0.0118  0.0078  0.0078  0.0078  0.0118  0.0078  0.0118  0.0157  0.0039\n",
       "  0.0000  0.0000  0.0000  0.0039  0.0039  0.0000  0.0000  0.0039  0.0000\n",
       "\n",
       "Columns 18 to 26 \n",
       "   0.0118  0.0078  0.0039  0.0078  0.0118  0.0078  0.0078  0.0118  0.0039\n",
       "  0.0118  0.0078  0.0078  0.0118  0.0118  0.0118  0.0196  0.0235  0.0118\n",
       "  0.0118  0.0118  0.0078  0.0078  0.0118  0.0118  0.0157  0.0196  0.0118\n",
       "  0.0157  0.0118  0.0118  0.0118  0.0118  0.0078  0.0078  0.0078  0.0078\n",
       "  0.0392  0.0118  0.0078  0.0078  0.0078  0.0078  0.0039  0.0078  0.0118\n",
       "  0.2118  0.0431  0.0039  0.0039  0.0078  0.0078  0.0118  0.0118  0.0118\n",
       "  0.3843  0.0863  0.0078  0.0000  0.0078  0.0078  0.0118  0.0078  0.0118\n",
       "  0.1059  0.0314  0.0039  0.0000  0.0039  0.0078  0.0078  0.0118  0.0157\n",
       "  0.0039  0.0039  0.0039  0.0000  0.0039  0.0118  0.0118  0.0118  0.0118\n",
       "  0.0118  0.0118  0.0078  0.0000  0.0078  0.0078  0.0157  0.0078  0.0078\n",
       "  0.1725  0.1804  0.1294  0.0431  0.0078  0.0078  0.0078  0.0118  0.0039\n",
       "  0.5843  0.6275  0.5647  0.2667  0.0549  0.0118  0.0078  0.0157  0.0118\n",
       "  0.3020  0.4157  0.6902  0.6902  0.2941  0.0471  0.0118  0.0118  0.0118\n",
       "  0.0431  0.1020  0.4078  0.7961  0.6510  0.1686  0.0196  0.0078  0.0078\n",
       "  0.0118  0.0314  0.2588  0.7804  0.8196  0.2902  0.0392  0.0157  0.0196\n",
       "  0.0196  0.0784  0.4039  0.8392  0.8196  0.2863  0.0431  0.0118  0.0196\n",
       "  0.1333  0.3294  0.7176  0.8549  0.6784  0.2000  0.0235  0.0039  0.0039\n",
       "  0.4941  0.7725  0.7843  0.5451  0.2235  0.0471  0.0078  0.0078  0.0039\n",
       "  0.7373  0.8314  0.4863  0.1608  0.0314  0.0118  0.0078  0.0118  0.0118\n",
       "  0.6157  0.4941  0.1490  0.0235  0.0118  0.0078  0.0157  0.0118  0.0118\n",
       "  0.1412  0.0902  0.0235  0.0039  0.0078  0.0078  0.0118  0.0078  0.0118\n",
       "  0.0157  0.0118  0.0078  0.0078  0.0118  0.0118  0.0157  0.0157  0.0157\n",
       "  0.0078  0.0118  0.0118  0.0039  0.0039  0.0118  0.0078  0.0157  0.0118\n",
       "  0.0118  0.0118  0.0157  0.0078  0.0078  0.0078  0.0118  0.0157  0.0078\n",
       "  0.0039  0.0078  0.0078  0.0078  0.0039  0.0078  0.0078  0.0157  0.0196\n",
       "  0.0118  0.0118  0.0078  0.0118  0.0118  0.0118  0.0118  0.0157  0.0157\n",
       "  0.0078  0.0196  0.0157  0.0196  0.0157  0.0118  0.0157  0.0157  0.0157\n",
       "  0.0000  0.0118  0.0078  0.0196  0.0078  0.0078  0.0157  0.0196  0.0078\n",
       "\n",
       "Columns 27 to 27 \n",
       "   0.0000\n",
       "  0.0039\n",
       "  0.0118\n",
       "  0.0039\n",
       "  0.0039\n",
       "  0.0078\n",
       "  0.0118\n",
       "  0.0118\n",
       "  0.0078\n",
       "  0.0078\n",
       "  0.0000\n",
       "  0.0039\n",
       "  0.0039\n",
       "  0.0039\n",
       "  0.0078\n",
       "  0.0078\n",
       "  0.0039\n",
       "  0.0039\n",
       "  0.0078\n",
       "  0.0118\n",
       "  0.0196\n",
       "  0.0157\n",
       "  0.0039\n",
       "  0.0078\n",
       "  0.0118\n",
       "  0.0118\n",
       "  0.0157\n",
       "  0.0078\n",
       "[torch.FloatTensor of size 1x28x28]"
      ]
     },
     "execution_count": 79,
     "metadata": {},
     "output_type": "execute_result"
    }
   ],
   "source": [
    "from PIL import Image\n",
    "RescaleTrans = transforms.Compose([\n",
    "transforms.Scale(28),\n",
    "transforms.ToTensor(),\n",
    "# transforms.Normalize((0.5, 0.5, 0.5), (0.5, 0.5, 0.5)),\n",
    "])\n",
    "torch.FloatTensor(RescaleTrans(Image.fromarray(G_result[0,0].cpu().mul(0.5).add(0.5).mul(255).byte().numpy())).numpy())"
   ]
  },
  {
   "cell_type": "code",
   "execution_count": 78,
   "metadata": {},
   "outputs": [
    {
     "data": {
      "image/png": "[encoded data removed]",
      "text/plain": [
       "<PIL.Image.Image image mode=L size=64x64 at 0x7F1C12D2D2E8>"
      ]
     },
     "execution_count": 78,
     "metadata": {},
     "output_type": "execute_result"
    }
   ],
   "source": [
    "Image.fromarray(G_result[0,0].cpu().mul(0.5).add(0.5).mul(255).byte().numpy())"
   ]
  },
  {
   "cell_type": "code",
   "execution_count": 68,
   "metadata": {},
   "outputs": [
    {
     "data": {
      "text/plain": [
       "dtype('uint8')"
      ]
     },
     "execution_count": 68,
     "metadata": {},
     "output_type": "execute_result"
    }
   ],
   "source": [
    "G_result[0].cpu().mul(0.5).add(0.5).mul(255).byte().numpy().dtype\n",
    "# nn.AvgPool2d?"
   ]
  },
  {
   "cell_type": "code",
   "execution_count": 76,
   "metadata": {},
   "outputs": [
    {
     "data": {
      "text/plain": [
       "Variable containing:\n",
       "(0 ,.,.) = \n",
       "  0.0118  0.0078  0.1294  0.1922  0.0196  0.0078  0.0118\n",
       "  0.0118  0.0118  0.1216  0.2863  0.1922  0.0000  0.0118\n",
       "  0.0118  0.0118  0.0549  0.1686  0.2275  0.0784  0.0039\n",
       "  0.0118  0.0275  0.2667  0.2667  0.1922  0.4902  0.0235\n",
       "  0.0078  0.3412  0.2157  0.1020  0.3882  0.3216  0.0078\n",
       "  0.0118  0.0745  0.2980  0.2510  0.1176  0.0000  0.0118\n",
       "  0.0118  0.0000  0.0000  0.0000  0.0000  0.0118  0.0157\n",
       "[torch.FloatTensor of size (1,7,7)]"
      ]
     },
     "execution_count": 76,
     "metadata": {},
     "output_type": "execute_result"
    }
   ],
   "source": [
    "input"
   ]
  }
 ],
 "metadata": {
  "kernelspec": {
   "display_name": "Python 3",
   "language": "python",
   "name": "python3"
  },
  "language_info": {
   "codemirror_mode": {
    "name": "ipython",
    "version": 3
   },
   "file_extension": ".py",
   "mimetype": "text/x-python",
   "name": "python",
   "nbconvert_exporter": "python",
   "pygments_lexer": "ipython3",
   "version": "3.5.2"
  }
 },
 "nbformat": 4,
 "nbformat_minor": 2
}
