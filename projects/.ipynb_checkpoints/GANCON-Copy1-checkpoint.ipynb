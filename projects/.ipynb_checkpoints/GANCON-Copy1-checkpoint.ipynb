{
 "cells": [
  {
   "cell_type": "code",
   "execution_count": 1,
   "metadata": {},
   "outputs": [],
   "source": [
    "import os, time\n",
    "import matplotlib.pyplot as plt\n",
    "import itertools\n",
    "import pickle\n",
    "import imageio\n",
    "import torch\n",
    "from torch import nn, optim\n",
    "import torch.nn.functional as F\n",
    "import torch.optim as optim\n",
    "from torchvision import datasets, transforms\n",
    "from torch.autograd import Variable\n",
    "import numpy as np\n",
    "from IPython import display\n",
    "\n",
    "from utils import Logger"
   ]
  },
  {
   "cell_type": "code",
   "execution_count": 2,
   "metadata": {},
   "outputs": [],
   "source": [
    "class DiscriminatorNet(torch.nn.Module):\n",
    "    \"\"\"\n",
    "    A three hidden-layer discriminative neural network\n",
    "    \"\"\"\n",
    "    def __init__(self):\n",
    "        super(DiscriminatorNet, self).__init__()\n",
    "        n_features = 784 # Our images have size 28x28, which is a total of 784 pixels (size of flattened vector)\n",
    "        n_out = 1 # The output of the discriminator is a single number, saying how likely this is a real image (as opposed to generated)\n",
    "        \n",
    "        # We now declare the layers of the network. This create the variables that hold the weights (aka parameters)\n",
    "        # We use the Sequential class, which itself takes a series of modules which define functions, \n",
    "        # and composes these functions, sequentially, feeding the output of one the the input of the next.\n",
    "        # \n",
    "        # Linear is just a matrix multiplication plus bias vector addition\n",
    "        # LeakyReLU is a variant of ReLU, which has non-zero gradient when pre-activation is negative\n",
    "        # Dropout makes some neurons' activation zero (\"drops them\"), with a certain probability. Used as regularizer\n",
    "        # \n",
    "        self.hidden0 = nn.Sequential( \n",
    "            nn.Linear(n_features, 1024),\n",
    "            nn.LeakyReLU(0.2),\n",
    "            nn.Dropout(0.3)\n",
    "        )\n",
    "        self.hidden1 = nn.Sequential(\n",
    "            nn.Linear(1024, 512),\n",
    "            nn.LeakyReLU(0.2),\n",
    "            nn.Dropout(0.3)\n",
    "        )\n",
    "        self.hidden2 = nn.Sequential(\n",
    "            nn.Linear(512, 256),\n",
    "            nn.LeakyReLU(0.2),\n",
    "            nn.Dropout(0.3)\n",
    "        )\n",
    "        self.out = nn.Sequential(\n",
    "            torch.nn.Linear(256, n_out),\n",
    "            torch.nn.Sigmoid()\n",
    "        )\n",
    "\n",
    "    def forward(self, x):\n",
    "        x = self.hidden0(x)\n",
    "        x = self.hidden1(x)\n",
    "        x = self.hidden2(x)\n",
    "        x = self.out(x)\n",
    "        return x\n",
    "    \n",
    "def images_to_vectors(images):\n",
    "    return images.view(images.size(0), 784)\n",
    "\n",
    "def vectors_to_images(vectors):\n",
    "    return vectors.view(vectors.size(0), 1, 28, 28)"
   ]
  },
  {
   "cell_type": "code",
   "execution_count": 3,
   "metadata": {},
   "outputs": [],
   "source": [
    "class GeneratorNet(torch.nn.Module):\n",
    "    \"\"\"\n",
    "    A three hidden-layer generative neural network\n",
    "    \"\"\"\n",
    "    def __init__(self):\n",
    "        super(GeneratorNet, self).__init__()\n",
    "        n_features = 100 # The noise vector is of size 100 (pretty arbitrary choice!)\n",
    "        n_out = 784 # The size of the output \"image\"\n",
    "        \n",
    "        self.hidden0 = nn.Sequential(\n",
    "            nn.Linear(n_features, 256),\n",
    "            nn.LeakyReLU(0.2)\n",
    "        )\n",
    "        self.hidden1 = nn.Sequential(            \n",
    "            nn.Linear(256, 512),\n",
    "            nn.LeakyReLU(0.2)\n",
    "        )\n",
    "        self.hidden2 = nn.Sequential(\n",
    "            nn.Linear(512, 1024),\n",
    "            nn.LeakyReLU(0.2)\n",
    "        )\n",
    "        \n",
    "        self.out = nn.Sequential(\n",
    "            nn.Linear(1024, n_out),\n",
    "            nn.Tanh()\n",
    "        )\n",
    "\n",
    "    def forward(self, x):\n",
    "        x = self.hidden0(x)\n",
    "        x = self.hidden1(x)\n",
    "        x = self.hidden2(x)\n",
    "        x = self.out(x)\n",
    "        return x\n",
    "    \n",
    "# Noise\n",
    "def noise(size):\n",
    "    n = Variable(torch.randn(size, 100))\n",
    "    if torch.cuda.is_available(): return n.cuda()\n",
    "    return n"
   ]
  },
  {
   "cell_type": "code",
   "execution_count": 4,
   "metadata": {},
   "outputs": [],
   "source": [
    "discriminator = DiscriminatorNet()\n",
    "generator = GeneratorNet()\n",
    "if torch.cuda.is_available():\n",
    "    discriminator.cuda()\n",
    "    generator.cuda()"
   ]
  },
  {
   "cell_type": "code",
   "execution_count": 6,
   "metadata": {},
   "outputs": [],
   "source": [
    "# Load trained model\n",
    "import pickle\n",
    "generator_stat_dict = pickle.load(open(\"trained_generator.pkl\",\"rb\"))\n",
    "discriminator_stat_dict = pickle.load(open(\"trained_discriminator.pkl\",\"rb\"))\n",
    "generator.load_state_dict(generator_stat_dict)\n",
    "discriminator.load_state_dict(discriminator_stat_dict)"
   ]
  },
  {
   "cell_type": "code",
   "execution_count": 19,
   "metadata": {},
   "outputs": [
    {
     "data": {
      "text/plain": [
       "<matplotlib.image.AxesImage at 0x7fbcd1189198>"
      ]
     },
     "execution_count": 19,
     "metadata": {},
     "output_type": "execute_result"
    },
    {
     "data": {
      "image/png": "[encoded data removed]",
      "text/plain": [
       "<matplotlib.figure.Figure at 0x7fbcd1072d68>"
      ]
     },
     "metadata": {},
     "output_type": "display_data"
    }
   ],
   "source": [
    "# vectors_to_images(generator(noise(1))).data.cpu()[0,0].numpy().shape\n",
    "\n",
    "plt.imshow(vectors_to_images(generator(noise(1))).data.cpu()[0,0].numpy())"
   ]
  },
  {
   "cell_type": "markdown",
   "metadata": {},
   "source": [
    "## Classifier"
   ]
  },
  {
   "cell_type": "code",
   "execution_count": 20,
   "metadata": {},
   "outputs": [],
   "source": [
    "class Net(nn.Module):\n",
    "\n",
    "    def __init__(self):\n",
    "        super(Net, self).__init__()\n",
    "        # 1 input image channel, 6 output channels, 5x5 square convolution\n",
    "        # kernel\n",
    "        self.conv1 = nn.Conv2d(1, 6, 5)\n",
    "        self.conv2 = nn.Conv2d(6, 10, 3)\n",
    "        # an affine operation: y = Wx + b\n",
    "        self.fc1 = nn.Linear(10 * 5 * 5, 120)\n",
    "        self.fc2 = nn.Linear(120, 84)\n",
    "        self.fc3 = nn.Linear(84, 10)\n",
    "\n",
    "    def forward(self, x):\n",
    "        # Max pooling over a (2, 2) window\n",
    "        x = F.max_pool2d(F.relu(self.conv1(x)), (2, 2))\n",
    "        # If the size is a square you can only specify a single number\n",
    "        x = F.max_pool2d(F.relu(self.conv2(x)), 2)\n",
    "        x = x.view(-1, self.num_flat_features(x))\n",
    "        x = F.relu(self.fc1(x))\n",
    "        x = F.relu(self.fc2(x))\n",
    "        x = self.fc3(x)\n",
    "        return x\n",
    "    def num_flat_features(self, x):\n",
    "        size = x.size()[1:]  # all dimensions except the batch dimension\n",
    "        num_features = 1\n",
    "        for s in size:\n",
    "            num_features *= s\n",
    "        return num_features"
   ]
  },
  {
   "cell_type": "code",
   "execution_count": 21,
   "metadata": {},
   "outputs": [],
   "source": [
    "net = Net()\n",
    "import pickle\n",
    "net.load_state_dict(pickle.load(open(\"trained_mnist_classifier.pkl\",\"rb\")))"
   ]
  },
  {
   "cell_type": "code",
   "execution_count": 22,
   "metadata": {},
   "outputs": [
    {
     "data": {
      "text/plain": [
       "Net(\n",
       "  (conv1): Conv2d(1, 6, kernel_size=(5, 5), stride=(1, 1))\n",
       "  (conv2): Conv2d(6, 10, kernel_size=(3, 3), stride=(1, 1))\n",
       "  (fc1): Linear(in_features=250, out_features=120, bias=True)\n",
       "  (fc2): Linear(in_features=120, out_features=84, bias=True)\n",
       "  (fc3): Linear(in_features=84, out_features=10, bias=True)\n",
       ")"
      ]
     },
     "execution_count": 22,
     "metadata": {},
     "output_type": "execute_result"
    }
   ],
   "source": [
    "# list(net.parameters())\n",
    "net.cuda()"
   ]
  },
  {
   "cell_type": "code",
   "execution_count": 26,
   "metadata": {},
   "outputs": [
    {
     "data": {
      "text/plain": [
       "Variable containing:\n",
       " 5\n",
       "[torch.cuda.LongTensor of size (1,) (GPU 0)]"
      ]
     },
     "execution_count": 26,
     "metadata": {},
     "output_type": "execute_result"
    }
   ],
   "source": [
    "input = vectors_to_images(generator(noise(1)))\n",
    "\n",
    "_,pred = torch.max(net(input),1)\n",
    "pred"
   ]
  },
  {
   "cell_type": "code",
   "execution_count": 57,
   "metadata": {},
   "outputs": [],
   "source": [
    "def plot_image(input):\n",
    "    plt.imshow(input.data.cpu()[0,0].numpy())"
   ]
  },
  {
   "cell_type": "code",
   "execution_count": 28,
   "metadata": {},
   "outputs": [
    {
     "data": {
      "text/plain": [
       "Variable containing:\n",
       "\n",
       "Columns 0 to 7 \n",
       " -5.1375  -6.2537  -4.0821  13.7669  -6.7650  14.2166  -5.7496  -2.2198\n",
       "\n",
       "Columns 8 to 9 \n",
       "  4.0768   1.7138\n",
       "[torch.cuda.FloatTensor of size (1,10) (GPU 0)]"
      ]
     },
     "execution_count": 28,
     "metadata": {},
     "output_type": "execute_result"
    }
   ],
   "source": [
    "net(input)"
   ]
  },
  {
   "cell_type": "markdown",
   "metadata": {},
   "source": [
    "# Markdown"
   ]
  },
  {
   "cell_type": "code",
   "execution_count": 78,
   "metadata": {},
   "outputs": [
    {
     "name": "stdout",
     "output_type": "stream",
     "text": [
      "0\n",
      "predicted:  0\n",
      "66\n",
      "predicted:  9\n",
      "132\n",
      "predicted:  9\n",
      "198\n",
      "predicted:  9\n",
      "264\n",
      "predicted:  9\n",
      "330\n",
      "predicted:  9\n",
      "396\n",
      "predicted:  9\n",
      "462\n",
      "predicted:  9\n",
      "528\n",
      "predicted:  9\n",
      "594\n",
      "predicted:  9\n",
      "660\n",
      "predicted:  9\n",
      "726\n",
      "predicted:  9\n",
      "792\n",
      "predicted:  9\n",
      "858\n",
      "predicted:  9\n",
      "924\n",
      "predicted:  9\n",
      "990\n",
      "predicted:  9\n",
      "1056\n",
      "predicted:  9\n",
      "1122\n",
      "predicted:  9\n",
      "1188\n",
      "predicted:  9\n",
      "1254\n",
      "predicted:  9\n",
      "1320\n",
      "predicted:  9\n",
      "1386\n",
      "predicted:  9\n",
      "1452\n",
      "predicted:  9\n",
      "1518\n",
      "predicted:  9\n",
      "1584\n",
      "predicted:  9\n",
      "1650\n",
      "predicted:  9\n",
      "1716\n",
      "predicted:  9\n",
      "1782\n",
      "predicted:  9\n",
      "1848\n",
      "predicted:  9\n",
      "1914\n",
      "predicted:  9\n",
      "1980\n",
      "predicted:  9\n"
     ]
    }
   ],
   "source": [
    "input = Variable(torch.randn(1, 100).cuda(), requires_grad=True)\n",
    "optimizer = optim.SGD([input],lr=0.001)\n",
    "cost = F.cross_entropy\n",
    "\n",
    "target_number = 9\n",
    "num_iters = 2000\n",
    "for iteration in range(num_iters):\n",
    "    input.grad = input_grad_zeros\n",
    "    prediction = net(vectors_to_images(generator(input)))\n",
    "    loss = cost(prediction,Variable(torch.LongTensor([target_number]).cuda()))\n",
    "    loss.backward()\n",
    "    optimizer.step()\n",
    "    if iteration%(num_iters//30)==0:\n",
    "        print(iteration)\n",
    "        _,pred = torch.max(prediction,1)\n",
    "        print(\"predicted: \", pred.data.cpu()[0])"
   ]
  },
  {
   "cell_type": "code",
   "execution_count": 55,
   "metadata": {},
   "outputs": [],
   "source": [
    "input_grad_zeros = Variable(torch.zeros(input.grad.shape).cuda())"
   ]
  },
  {
   "cell_type": "code",
   "execution_count": 53,
   "metadata": {},
   "outputs": [
    {
     "name": "stdout",
     "output_type": "stream",
     "text": [
      "Variable containing:\n",
      "\n",
      "Columns 0 to 9 \n",
      " 0.4211  0.4271  1.8790  1.9930 -1.4917 -3.2225 -0.6220 -3.9660 -0.4468  0.9380\n",
      "\n",
      "Columns 10 to 19 \n",
      "-1.2499 -4.0676 -1.3324  1.8272 -0.6211  0.8192  1.2895  2.2923  2.0532  1.3266\n",
      "\n",
      "Columns 20 to 29 \n",
      " 1.0426 -1.3325  3.1356  1.6853  0.0847 -2.6947  0.1905 -2.2690 -4.6182 -0.4915\n",
      "\n",
      "Columns 30 to 39 \n",
      " 2.6887  0.0671  1.6910 -0.9882 -1.2761 -0.7013  2.1928  2.1287 -0.4710  1.4780\n",
      "\n",
      "Columns 40 to 49 \n",
      " 1.4399  1.7646  0.4783 -4.0681 -2.7514  2.2695 -1.3055  0.3944  1.1084 -1.0109\n",
      "\n",
      "Columns 50 to 59 \n",
      " 1.1921  2.2970 -0.0426 -0.4258 -1.1115  0.4898 -0.8867 -0.5772 -2.6140  2.5249\n",
      "\n",
      "Columns 60 to 69 \n",
      " 1.0957 -0.7726  1.0861 -3.0906 -1.5328  0.7989  1.4096  1.8043  0.0833 -0.8839\n",
      "\n",
      "Columns 70 to 79 \n",
      "-1.7979  0.5500  2.3497  0.6412  0.4993 -0.7803  0.9996  0.0868 -3.0887  0.4829\n",
      "\n",
      "Columns 80 to 89 \n",
      "-1.6731 -0.2246  0.3959 -2.4421  1.0614  3.2407 -0.5675 -0.1403 -1.1539 -1.3660\n",
      "\n",
      "Columns 90 to 99 \n",
      " 0.1133 -0.4334  1.2466  2.9458 -0.0853  1.6633  0.4788  0.6904 -2.4866  0.2624\n",
      "[torch.cuda.FloatTensor of size (1,100) (GPU 0)]\n",
      "\n"
     ]
    }
   ],
   "source": [
    "print(input.grad)"
   ]
  },
  {
   "cell_type": "code",
   "execution_count": 52,
   "metadata": {},
   "outputs": [],
   "source": [
    "#     prediction = net(vectors_to_images(generator(input)))\n",
    "#     loss = cost(prediction,Variable(torch.LongTensor([target_number]).cuda()))\n",
    "#     loss.backward()"
   ]
  },
  {
   "cell_type": "code",
   "execution_count": 79,
   "metadata": {},
   "outputs": [
    {
     "data": {
      "image/png": "[encoded data removed]",
      "text/plain": [
       "<matplotlib.figure.Figure at 0x7fbcd10b3f98>"
      ]
     },
     "metadata": {},
     "output_type": "display_data"
    }
   ],
   "source": [
    "plot_image(vectors_to_images(generator(input)))"
   ]
  },
  {
   "cell_type": "code",
   "execution_count": 65,
   "metadata": {},
   "outputs": [
    {
     "data": {
      "text/plain": [
       "7"
      ]
     },
     "execution_count": 65,
     "metadata": {},
     "output_type": "execute_result"
    }
   ],
   "source": [
    "out = net(vectors_to_images(generator(input)))\n",
    "_,pred = torch.max(out,1)\n",
    "pred.data.cpu()[0]"
   ]
  },
  {
   "cell_type": "code",
   "execution_count": null,
   "metadata": {},
   "outputs": [],
   "source": []
  }
 ],
 "metadata": {
  "kernelspec": {
   "display_name": "Python 3",
   "language": "python",
   "name": "python3"
  },
  "language_info": {
   "codemirror_mode": {
    "name": "ipython",
    "version": 3
   },
   "file_extension": ".py",
   "mimetype": "text/x-python",
   "name": "python",
   "nbconvert_exporter": "python",
   "pygments_lexer": "ipython3",
   "version": "3.5.2"
  }
 },
 "nbformat": 4,
 "nbformat_minor": 2
}
