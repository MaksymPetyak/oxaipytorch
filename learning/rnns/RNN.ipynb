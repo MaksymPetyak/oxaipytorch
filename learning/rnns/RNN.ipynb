{
 "cells": [
  {
   "cell_type": "markdown",
   "metadata": {},
   "source": [
    "# RNN\n",
    "\n",
    "Ok, so I'm gonna try to make an RNN learn to speak like Hofstadter, trying to Google as little as possible :P"
   ]
  },
  {
   "cell_type": "code",
   "execution_count": 1,
   "metadata": {},
   "outputs": [],
   "source": [
    "# LOAD GEBB\n",
    "f = open(\"GEB.txt\",\"r\")\n",
    "lines = list(f)"
   ]
  },
  {
   "cell_type": "code",
   "execution_count": 6,
   "metadata": {},
   "outputs": [],
   "source": [
    "lines = list(filter(lambda x: x!= \"\\n\",lines))"
   ]
  },
  {
   "cell_type": "code",
   "execution_count": 7,
   "metadata": {},
   "outputs": [
    {
     "data": {
      "text/plain": [
       "['Contents \\n',\n",
       " 'Overview viii \\n',\n",
       " 'List of Illustrations xiv \\n',\n",
       " 'Words of Thanks xix \\n',\n",
       " 'Part I: GEB \\n',\n",
       " 'Introduction: A Musico-Logical Offering 3 \\n',\n",
       " 'Three-Part Invention 29 \\n',\n",
       " 'Chapter I: The MU-puzzle 33 \\n',\n",
       " 'Two-Part Invention 43 \\n',\n",
       " 'Chapter II: Meaning and Form in Mathematics 46 \\n']"
      ]
     },
     "execution_count": 7,
     "metadata": {},
     "output_type": "execute_result"
    }
   ],
   "source": [
    "lines[:10]"
   ]
  },
  {
   "cell_type": "code",
   "execution_count": 12,
   "metadata": {},
   "outputs": [],
   "source": [
    "# Turn a Unicode string to plain ASCII, thanks to http://stackoverflow.com/a/518232/2809427\n",
    "import unicodedata\n",
    "import string\n",
    "\n",
    "all_letters = string.ascii_letters + \" .,;'-\"\n",
    "def unicodeToAscii(s):\n",
    "    return ''.join(\n",
    "        c for c in unicodedata.normalize('NFD', s)\n",
    "        if unicodedata.category(c) != 'Mn'\n",
    "        and c in all_letters\n",
    "    )"
   ]
  },
  {
   "cell_type": "code",
   "execution_count": 13,
   "metadata": {},
   "outputs": [],
   "source": [
    "lines = [unicodeToAscii(l) for l in lines]"
   ]
  },
  {
   "cell_type": "code",
   "execution_count": 14,
   "metadata": {},
   "outputs": [
    {
     "data": {
      "text/plain": [
       "['Contents ',\n",
       " 'Overview viii ',\n",
       " 'List of Illustrations xiv ',\n",
       " 'Words of Thanks xix ',\n",
       " 'Part I GEB ',\n",
       " 'Introduction A Musico-Logical Offering  ',\n",
       " 'Three-Part Invention  ',\n",
       " 'Chapter I The MU-puzzle  ',\n",
       " 'Two-Part Invention  ',\n",
       " 'Chapter II Meaning and Form in Mathematics  ']"
      ]
     },
     "execution_count": 14,
     "metadata": {},
     "output_type": "execute_result"
    }
   ],
   "source": [
    "lines[:10]"
   ]
  },
  {
   "cell_type": "markdown",
   "metadata": {},
   "source": [
    "Ok, how do I make an RNN? Hmm"
   ]
  },
  {
   "cell_type": "code",
   "execution_count": 5,
   "metadata": {},
   "outputs": [],
   "source": [
    "class RNN(nn.Module):\n",
    "    def __init__()"
   ]
  },
  {
   "cell_type": "code",
   "execution_count": null,
   "metadata": {},
   "outputs": [],
   "source": []
  }
 ],
 "metadata": {
  "kernelspec": {
   "display_name": "Python 3",
   "language": "python",
   "name": "python3"
  },
  "language_info": {
   "codemirror_mode": {
    "name": "ipython",
    "version": 3
   },
   "file_extension": ".py",
   "mimetype": "text/x-python",
   "name": "python",
   "nbconvert_exporter": "python",
   "pygments_lexer": "ipython3",
   "version": "3.5.2"
  }
 },
 "nbformat": 4,
 "nbformat_minor": 2
}
