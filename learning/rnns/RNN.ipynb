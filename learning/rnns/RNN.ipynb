{
 "cells": [
  {
   "cell_type": "markdown",
   "metadata": {},
   "source": [
    "# RNN\n",
    "\n",
    "Ok, so I'm gonna try to make an RNN learn to speak like Hofstadter, trying to Google as little as possible :P"
   ]
  },
  {
   "cell_type": "markdown",
   "metadata": {},
   "source": [
    "## Loading and processing the data"
   ]
  },
  {
   "cell_type": "code",
   "execution_count": 16,
   "metadata": {},
   "outputs": [],
   "source": [
    "# LOAD GEBB\n",
    "f = open(\"GEB.txt\",\"r\")\n",
    "lines = list(f)"
   ]
  },
  {
   "cell_type": "code",
   "execution_count": 17,
   "metadata": {},
   "outputs": [],
   "source": [
    "lines = list(filter(lambda x: x!= \"\\n\",lines))"
   ]
  },
  {
   "cell_type": "code",
   "execution_count": 18,
   "metadata": {},
   "outputs": [
    {
     "data": {
      "text/plain": [
       "['Contents \\n',\n",
       " 'Overview viii \\n',\n",
       " 'List of Illustrations xiv \\n',\n",
       " 'Words of Thanks xix \\n',\n",
       " 'Part I: GEB \\n',\n",
       " 'Introduction: A Musico-Logical Offering 3 \\n',\n",
       " 'Three-Part Invention 29 \\n',\n",
       " 'Chapter I: The MU-puzzle 33 \\n',\n",
       " 'Two-Part Invention 43 \\n',\n",
       " 'Chapter II: Meaning and Form in Mathematics 46 \\n']"
      ]
     },
     "execution_count": 18,
     "metadata": {},
     "output_type": "execute_result"
    }
   ],
   "source": [
    "lines[:10]"
   ]
  },
  {
   "cell_type": "code",
   "execution_count": 19,
   "metadata": {},
   "outputs": [],
   "source": [
    "# Turn a Unicode string to plain ASCII, thanks to http://stackoverflow.com/a/518232/2809427\n",
    "import unicodedata\n",
    "import string\n",
    "\n",
    "all_letters = string.ascii_letters + \" .,;'-\"\n",
    "def unicodeToAscii(s):\n",
    "    return ''.join(\n",
    "        c for c in unicodedata.normalize('NFD', s)\n",
    "        if unicodedata.category(c) != 'Mn'\n",
    "        and c in all_letters\n",
    "    )"
   ]
  },
  {
   "cell_type": "code",
   "execution_count": 20,
   "metadata": {},
   "outputs": [],
   "source": [
    "lines = [unicodeToAscii(l) for l in lines]"
   ]
  },
  {
   "cell_type": "code",
   "execution_count": 21,
   "metadata": {},
   "outputs": [
    {
     "data": {
      "text/plain": [
       "['Contents ',\n",
       " 'Overview viii ',\n",
       " 'List of Illustrations xiv ',\n",
       " 'Words of Thanks xix ',\n",
       " 'Part I GEB ',\n",
       " 'Introduction A Musico-Logical Offering  ',\n",
       " 'Three-Part Invention  ',\n",
       " 'Chapter I The MU-puzzle  ',\n",
       " 'Two-Part Invention  ',\n",
       " 'Chapter II Meaning and Form in Mathematics  ']"
      ]
     },
     "execution_count": 21,
     "metadata": {},
     "output_type": "execute_result"
    }
   ],
   "source": [
    "lines[:10]"
   ]
  },
  {
   "cell_type": "code",
   "execution_count": 22,
   "metadata": {},
   "outputs": [],
   "source": [
    "import torch"
   ]
  },
  {
   "cell_type": "code",
   "execution_count": 23,
   "metadata": {},
   "outputs": [
    {
     "data": {
      "text/plain": [
       "\"abcdefghijklmnopqrstuvwxyzABCDEFGHIJKLMNOPQRSTUVWXYZ .,;'-\""
      ]
     },
     "execution_count": 23,
     "metadata": {},
     "output_type": "execute_result"
    }
   ],
   "source": [
    "n_letters=len(all_letters)\n",
    "all_letters"
   ]
  },
  {
   "cell_type": "code",
   "execution_count": 24,
   "metadata": {},
   "outputs": [],
   "source": [
    "# One-hot matrix of first to last letters (not including EOS) for input\n",
    "def inputTensor(line):\n",
    "    tensor = torch.zeros(len(line),1, n_letters)\n",
    "    for li in range(len(line)):\n",
    "        letter = line[li]\n",
    "        tensor[li][0][all_letters.find(letter)] = 1\n",
    "    return tensor"
   ]
  },
  {
   "cell_type": "code",
   "execution_count": 25,
   "metadata": {},
   "outputs": [
    {
     "data": {
      "text/plain": [
       "0"
      ]
     },
     "execution_count": 25,
     "metadata": {},
     "output_type": "execute_result"
    }
   ],
   "source": [
    "# import pandas as pd\n",
    "all_letters.find('a')"
   ]
  },
  {
   "cell_type": "markdown",
   "metadata": {},
   "source": [
    "*Below are the inputs with which we train our model, which are sentences convereted to one-hot vectors*"
   ]
  },
  {
   "cell_type": "code",
   "execution_count": 26,
   "metadata": {},
   "outputs": [],
   "source": [
    "# line = inputTensor(lines[0])\n",
    "\n",
    "data = [inputTensor(l) for l in lines]"
   ]
  },
  {
   "cell_type": "code",
   "execution_count": 27,
   "metadata": {},
   "outputs": [
    {
     "data": {
      "text/plain": [
       "torch.Size([81, 1, 58])"
      ]
     },
     "execution_count": 27,
     "metadata": {},
     "output_type": "execute_result"
    }
   ],
   "source": [
    "data[1201].shape\n",
    "# torch.utils.data.DataLoader"
   ]
  },
  {
   "cell_type": "markdown",
   "metadata": {},
   "source": [
    "*Below we make the targets for our model, which are also one-hot vector'd sentences, but shifted by 1 character*"
   ]
  },
  {
   "cell_type": "code",
   "execution_count": 28,
   "metadata": {},
   "outputs": [],
   "source": [
    "# LongTensor of second letter to end (EOS) for target\n",
    "def targetTensor(line):\n",
    "    letter_indexes = [all_letters.find(line[li]) for li in range(1, len(line))]\n",
    "    letter_indexes.append(n_letters - 1) # EOS\n",
    "    return torch.LongTensor(letter_indexes)"
   ]
  },
  {
   "cell_type": "code",
   "execution_count": 29,
   "metadata": {},
   "outputs": [],
   "source": [
    "targets = [targetTensor(l) for l in lines]"
   ]
  },
  {
   "cell_type": "markdown",
   "metadata": {},
   "source": [
    "## Defining the model\n",
    "Ok, how do I make an RNN? Hmm"
   ]
  },
  {
   "cell_type": "code",
   "execution_count": 30,
   "metadata": {},
   "outputs": [],
   "source": [
    "import torch.nn as nn\n",
    "from torch.autograd import Variable\n",
    "import torch.nn.functional as F\n"
   ]
  },
  {
   "cell_type": "code",
   "execution_count": 31,
   "metadata": {},
   "outputs": [],
   "source": [
    "class RNN(nn.Module):\n",
    "    def __init__(self, input_size, hidden_size, output_size):\n",
    "        super().__init__()\n",
    "\n",
    "        self.hidden_size = hidden_size\n",
    "\n",
    "        self.i2i = nn.Linear(input_size + hidden_size, input_size + hidden_size)\n",
    "        self.i2h = nn.Linear(input_size + hidden_size, hidden_size)\n",
    "        self.i2o = nn.Linear(input_size + hidden_size, output_size)\n",
    "        self.softmax = nn.Softmax(dim=1)\n",
    "        self.logsoftmax = nn.LogSoftmax(dim=1)\n",
    "\n",
    "    def forward(self, input, hidden):\n",
    "        combined = torch.cat((input, hidden), 1)\n",
    "        combined = F.relu(self.i2i(combined))\n",
    "        hidden = F.tanh(self.i2h(combined))\n",
    "        output = self.i2o(combined)\n",
    "        out = self.softmax(output)\n",
    "        logoutput = self.logsoftmax(output)\n",
    "        return logoutput, out, hidden\n",
    "\n",
    "    def initHidden(self):\n",
    "        return Variable(torch.zeros(1, self.hidden_size))\n",
    "\n",
    "n_hidden = 128\n"
   ]
  },
  {
   "cell_type": "code",
   "execution_count": 37,
   "metadata": {},
   "outputs": [],
   "source": [
    "rnn = RNN(n_letters, n_hidden, n_letters)"
   ]
  },
  {
   "cell_type": "markdown",
   "metadata": {},
   "source": [
    "*Function to get a minibatch randomly sampled from data*"
   ]
  },
  {
   "cell_type": "code",
   "execution_count": 32,
   "metadata": {},
   "outputs": [],
   "source": [
    "import random\n",
    "n = len(data)\n",
    "def get_minibatch(batch_size):\n",
    "    indices = random.sample(range(n),batch_size)\n",
    "    return [(data[i],targets[i]) for i in indices]"
   ]
  },
  {
   "cell_type": "code",
   "execution_count": 33,
   "metadata": {},
   "outputs": [],
   "source": [
    "# get_minibatch(2)[0]"
   ]
  },
  {
   "cell_type": "markdown",
   "metadata": {},
   "source": [
    "### Testing the model"
   ]
  },
  {
   "cell_type": "code",
   "execution_count": 72,
   "metadata": {},
   "outputs": [],
   "source": [
    "def sample_sentence():\n",
    "    d = get_minibatch(10)[0][0]\n",
    "    h = Variable(torch.zeros(1,n_hidden))\n",
    "    let = Variable(d[0,:,:])\n",
    "#     print(all_letters[torch.max(let,dim=1)[1]])\n",
    "    lets = [let]\n",
    "    for i in range(d.shape[0]):\n",
    "        _,letter_distribution,h = rnn(let,h)\n",
    "        let_index = torch.multinomial(letter_distribution,1).data[0][0]\n",
    "        let = Variable(torch.zeros(1,n_letters))\n",
    "        let[0,let_index]=1\n",
    "        lets.append(let)\n",
    "    return \"\".join([all_letters[torch.max(let,dim=1)[1]] for let in lets])"
   ]
  },
  {
   "cell_type": "code",
   "execution_count": 84,
   "metadata": {},
   "outputs": [
    {
     "data": {
      "text/plain": [
       "'Acharilice ang yme faveral bope -l'"
      ]
     },
     "execution_count": 84,
     "metadata": {},
     "output_type": "execute_result"
    }
   ],
   "source": [
    "sample_sentence()"
   ]
  },
  {
   "cell_type": "code",
   "execution_count": 96,
   "metadata": {
    "scrolled": true
   },
   "outputs": [
    {
     "data": {
      "text/plain": [
       "torch.Size([1, 58])"
      ]
     },
     "execution_count": 96,
     "metadata": {},
     "output_type": "execute_result"
    }
   ],
   "source": [
    "#don't mind me, just checking what targets is\n",
    "# lets[0].shape\n",
    "# targets[0]"
   ]
  },
  {
   "cell_type": "markdown",
   "metadata": {},
   "source": [
    "### Training\n",
    "\n",
    "The `NLLLoss` stands for negative log-likelihood loss, which means (log of) the probability (likelihood) that each of the right {next characters} are obtained from the softmax distribution that the `rnn` outputs at each point in the sequence.\n",
    "\n",
    "We work with the log of the probability for convenience (the numbers are more manageble, which the computer thanks us for, as it has to store something like -20, instead of 0.0000000000000000001 or something; this helps avoiding accuracy errors). For us, it means that instead of multiplying the likelihoods of the characters to get the likelihood of the sentence, we add the log-likelihoods.\n",
    "\n",
    "We are going to use Adam optimizer, instead of the simpler SGD, because it tends to work better (really beacuse god Karpathy says so)"
   ]
  },
  {
   "cell_type": "code",
   "execution_count": 79,
   "metadata": {},
   "outputs": [],
   "source": [
    "criterion = nn.NLLLoss()\n",
    "optim = torch.optim.Adam(rnn.parameters())"
   ]
  },
  {
   "cell_type": "code",
   "execution_count": null,
   "metadata": {
    "scrolled": true
   },
   "outputs": [
    {
     "name": "stdout",
     "output_type": "stream",
     "text": [
      "0\n",
      "116.73786\n",
      "18\n",
      "111.70514\n",
      "36\n",
      "110.96231\n",
      "54\n",
      "111.41884\n",
      "72\n",
      "115.752106\n",
      "90\n",
      "117.673454\n",
      "108\n",
      "116.097855\n",
      "126\n",
      "108.972\n",
      "144\n",
      "108.51685\n"
     ]
    }
   ],
   "source": [
    "from math import ceil\n",
    "num_iters = 18000\n",
    "# learning_rate = 0.001\n",
    "batch_size = 100\n",
    "for iteration in range(num_iters):\n",
    "    loss = 0\n",
    "    rnn.zero_grad()\n",
    "    for b in get_minibatch(batch_size):\n",
    "        sentence_chars = b[0]\n",
    "        target_next_chars = b[1]\n",
    "        h = Variable(torch.zeros(1,n_hidden))\n",
    "        len_sentence = sentence_chars.shape[0]\n",
    "        # I had some problems with very long sentences before, not sure why. Limiting it to 100 chars for now\n",
    "        # but it's something to check out later.\n",
    "        for i in range(min(len_sentence,100)):\n",
    "            input_char = Variable(sentence_chars[i,:,:])\n",
    "            loglet,_,h = rnn(input_char,h)\n",
    "            target_char = Variable(torch.LongTensor([target_next_chars[i]]))\n",
    "            loss += criterion(loglet,target_char)\n",
    "    #         lets.append(let)\n",
    "    loss /= batch_size\n",
    "    loss.backward()\n",
    "    optim.step()\n",
    "# below is if we wanted to use SGD\n",
    "#     for p in rnn.parameters():\n",
    "#         p.data.add_(-learning_rate, p.grad.data)\n",
    "    if iteration%(ceil(num_iters/1000))==0:\n",
    "        print(iteration)\n",
    "        print(loss.data.numpy()[0])"
   ]
  },
  {
   "cell_type": "code",
   "execution_count": 485,
   "metadata": {},
   "outputs": [
    {
     "data": {
      "text/plain": [
       "Variable containing:\n",
       " 191.1607\n",
       "[torch.FloatTensor of size (1,)]"
      ]
     },
     "execution_count": 485,
     "metadata": {},
     "output_type": "execute_result"
    }
   ],
   "source": [
    "loss"
   ]
  },
  {
   "cell_type": "code",
   "execution_count": 235,
   "metadata": {},
   "outputs": [],
   "source": [
    "#code graveyard\n",
    "# targets[0]\n",
    "# let = Variable(d[0,:,:])\n",
    "# h = Variable(torch.zeros(1,n_hidden))\n",
    "# loss.backward()\n",
    "# let,h = rnn(let,h)\n",
    "# let,h"
   ]
  },
  {
   "cell_type": "code",
   "execution_count": null,
   "metadata": {},
   "outputs": [],
   "source": []
  }
 ],
 "metadata": {
  "kernelspec": {
   "display_name": "Python 3",
   "language": "python",
   "name": "python3"
  },
  "language_info": {
   "codemirror_mode": {
    "name": "ipython",
    "version": 3
   },
   "file_extension": ".py",
   "mimetype": "text/x-python",
   "name": "python",
   "nbconvert_exporter": "python",
   "pygments_lexer": "ipython3",
   "version": "3.5.2"
  }
 },
 "nbformat": 4,
 "nbformat_minor": 2
}
