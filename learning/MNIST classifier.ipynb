{
 "cells": [
  {
   "cell_type": "code",
   "execution_count": 109,
   "metadata": {},
   "outputs": [],
   "source": [
    "import torch\n",
    "from torch.autograd import Variable\n",
    "import torch.nn as nn\n",
    "import torch.nn.functional as F\n",
    "import numpy as np"
   ]
  },
  {
   "cell_type": "code",
   "execution_count": 129,
   "metadata": {},
   "outputs": [],
   "source": [
    "import torchvision\n",
    "from torchvision import datasets, transforms\n",
    "\n",
    "batch_size = 128\n",
    "lr = 0.0002\n",
    "\n",
    "# data_loader\n",
    "img_size = 64\n",
    "transform = transforms.Compose([\n",
    "#         transforms.Scale(img_size),\n",
    "        transforms.ToTensor(),\n",
    "#         transforms.Normalize(mean=(0.5, 0.5, 0.5), std=(0.5, 0.5, 0.5))\n",
    "        transforms.Normalize(mean=[0.5], std=[0.5])\n",
    "])\n",
    "train_loader = torch.utils.data.DataLoader(\n",
    "    datasets.MNIST('data', train=True, download=True, transform=transform),\n",
    "    batch_size=batch_size, shuffle=True)"
   ]
  },
  {
   "cell_type": "code",
   "execution_count": 128,
   "metadata": {},
   "outputs": [],
   "source": [
    "# list(train_loader)[0][0][0]\n",
    "# transforms.Normalize?\n",
    "nn.Module.__init__??"
   ]
  },
  {
   "cell_type": "code",
   "execution_count": 130,
   "metadata": {},
   "outputs": [],
   "source": [
    "class Net(nn.Module):\n",
    "\n",
    "    def __init__(self):\n",
    "        super(Net, self).__init__()\n",
    "        # 1 input image channel, 6 output channels, 5x5 square convolution\n",
    "        # kernel\n",
    "        self.conv1 = nn.Conv2d(1, 6, 5)\n",
    "        self.conv2 = nn.Conv2d(6, 10, 3)\n",
    "        # an affine operation: y = Wx + b\n",
    "        self.fc1 = nn.Linear(10 * 5 * 5, 120)\n",
    "        self.fc2 = nn.Linear(120, 84)\n",
    "        self.fc3 = nn.Linear(84, 10)\n",
    "\n",
    "    def forward(self, x):\n",
    "        # Max pooling over a (2, 2) window\n",
    "        x = F.max_pool2d(F.relu(self.conv1(x)), (2, 2))\n",
    "        # If the size is a square you can only specify a single number\n",
    "        x = F.max_pool2d(F.relu(self.conv2(x)), 2)\n",
    "        x = x.view(-1, self.num_flat_features(x))\n",
    "        x = F.relu(self.fc1(x))\n",
    "        x = F.relu(self.fc2(x))\n",
    "        x = self.fc3(x)\n",
    "        return x\n",
    "    def num_flat_features(self, x):\n",
    "        size = x.size()[1:]  # all dimensions except the batch dimension\n",
    "        num_features = 1\n",
    "        for s in size:\n",
    "            num_features *= s\n",
    "        return num_features"
   ]
  },
  {
   "cell_type": "code",
   "execution_count": 131,
   "metadata": {},
   "outputs": [
    {
     "data": {
      "text/plain": [
       "Net(\n",
       "  (conv1): Conv2d(1, 6, kernel_size=(5, 5), stride=(1, 1))\n",
       "  (conv2): Conv2d(6, 10, kernel_size=(3, 3), stride=(1, 1))\n",
       "  (fc1): Linear(in_features=250, out_features=120, bias=True)\n",
       "  (fc2): Linear(in_features=120, out_features=84, bias=True)\n",
       "  (fc3): Linear(in_features=84, out_features=10, bias=True)\n",
       ")"
      ]
     },
     "execution_count": 131,
     "metadata": {},
     "output_type": "execute_result"
    }
   ],
   "source": [
    "net = Net().float()\n",
    "net.cuda()"
   ]
  },
  {
   "cell_type": "code",
   "execution_count": 132,
   "metadata": {},
   "outputs": [
    {
     "data": {
      "text/plain": [
       "Variable containing:\n",
       " 0.4844 -0.4150 -0.1412 -0.0565 -0.1297 -0.2050 -0.0181 -0.0055  0.8308  0.6703\n",
       "[torch.cuda.FloatTensor of size (1,10) (GPU 0)]"
      ]
     },
     "execution_count": 132,
     "metadata": {},
     "output_type": "execute_result"
    }
   ],
   "source": [
    "# import numpy as np\n",
    "x = 10*np.random.randn(1,1,28,28).astype('f')\n",
    "x = Variable(torch.from_numpy(x).cuda())\n",
    "net(x)"
   ]
  },
  {
   "cell_type": "code",
   "execution_count": 133,
   "metadata": {},
   "outputs": [
    {
     "data": {
      "text/plain": [
       "Variable containing:\n",
       " 0.4844 -0.4150 -0.1412 -0.0565 -0.1297 -0.2050 -0.0181 -0.0055  0.8308  0.6703\n",
       "[torch.cuda.FloatTensor of size (1,10) (GPU 0)]"
      ]
     },
     "execution_count": 133,
     "metadata": {},
     "output_type": "execute_result"
    }
   ],
   "source": [
    "# net.double()\n",
    "net(x)"
   ]
  },
  {
   "cell_type": "code",
   "execution_count": 134,
   "metadata": {},
   "outputs": [],
   "source": [
    "# create your optimizer\n",
    "optimizer = torch.optim.SGD(net.parameters(), lr=0.01)\n",
    "# criterion = nn.BCEWithLogitsLoss()\n",
    "criterion = F.cross_entropy\n",
    "# criterion = F.nll_loss\n",
    "\n",
    "\n",
    "# # in your training loop:\n",
    "# output = net(input)\n",
    "# loss = criterion(output, target)\n",
    "# optimizer.zero_grad()   # zero the gradient buffers\n",
    "# loss.backward()\n",
    "# optimizer.step()    # Does the update"
   ]
  },
  {
   "cell_type": "code",
   "execution_count": 84,
   "metadata": {},
   "outputs": [
    {
     "data": {
      "text/plain": [
       "Variable containing:\n",
       " 0\n",
       "[torch.cuda.FloatTensor of size (1,) (GPU 0)]"
      ]
     },
     "execution_count": 84,
     "metadata": {},
     "output_type": "execute_result"
    }
   ],
   "source": [
    "# criterion(Variable(torch.FloatTensor([[-1000,-1000,-1000,-1000,-1000,1000,-1000,-1000,-1000,-1000]]).cuda()),Variable(torch.FloatTensor([[0,0,0,0,0,1,0,0,0,0]]).cuda()))\n",
    "criterion(Variable(torch.FloatTensor([[-1000,-1000,-1000,-1000,-1000,1000,-1000,-1000,-1000,-1000]]).cuda()),Variable(torch.LongTensor([5]).cuda()))\n",
    "# torch.FloatTensor([[0,0,0,0,1,0,0,0,0,0]])"
   ]
  },
  {
   "cell_type": "code",
   "execution_count": 135,
   "metadata": {},
   "outputs": [
    {
     "name": "stdout",
     "output_type": "stream",
     "text": [
      "training start!\n",
      "[1/20] - ptime: 3.21, loss: 2.193\n",
      "[2/20] - ptime: 3.20, loss: 0.511\n",
      "[3/20] - ptime: 3.20, loss: 0.346\n",
      "[4/20] - ptime: 3.20, loss: 0.204\n",
      "[5/20] - ptime: 3.19, loss: 0.216\n",
      "[6/20] - ptime: 3.19, loss: 0.062\n",
      "[7/20] - ptime: 3.18, loss: 0.201\n",
      "[8/20] - ptime: 3.26, loss: 0.118\n",
      "[9/20] - ptime: 3.24, loss: 0.101\n",
      "[10/20] - ptime: 3.22, loss: 0.214\n",
      "[11/20] - ptime: 3.25, loss: 0.117\n",
      "[12/20] - ptime: 3.27, loss: 0.075\n",
      "[13/20] - ptime: 3.21, loss: 0.174\n",
      "[14/20] - ptime: 3.20, loss: 0.143\n",
      "[15/20] - ptime: 3.19, loss: 0.034\n",
      "[16/20] - ptime: 3.18, loss: 0.087\n",
      "[17/20] - ptime: 3.19, loss: 0.111\n",
      "[18/20] - ptime: 3.18, loss: 0.192\n",
      "[19/20] - ptime: 3.21, loss: 0.024\n",
      "[20/20] - ptime: 3.24, loss: 0.034\n"
     ]
    }
   ],
   "source": [
    "# import os, time\n",
    "train_epoch = 20\n",
    "print('training start!')\n",
    "start_time = time.time()\n",
    "for epoch in range(train_epoch):\n",
    "    D_losses = []\n",
    "    G_losses = []\n",
    "    epoch_start_time = time.time()\n",
    "    for x, y in train_loader:\n",
    "        x,y = Variable(x.cuda()), Variable(y.cuda())\n",
    "        output = net(x)\n",
    "        loss = criterion(output,y)\n",
    "        optimizer.zero_grad()\n",
    "        loss.backward()\n",
    "        optimizer.step()\n",
    "    epoch_end_time = time.time()\n",
    "    per_epoch_ptime = epoch_end_time - epoch_start_time\n",
    "    print('[%d/%d] - ptime: %.2f, loss: %.3f' % ((epoch + 1), train_epoch, per_epoch_ptime,loss))"
   ]
  },
  {
   "cell_type": "code",
   "execution_count": 126,
   "metadata": {
    "scrolled": false
   },
   "outputs": [],
   "source": [
    "# list(iter(net.parameters()))"
   ]
  },
  {
   "cell_type": "code",
   "execution_count": 136,
   "metadata": {},
   "outputs": [],
   "source": [
    "test_loader = torch.utils.data.DataLoader(\n",
    "    datasets.MNIST('data', train=False, download=True, transform=transform),\n",
    "    batch_size=4, shuffle=True)"
   ]
  },
  {
   "cell_type": "code",
   "execution_count": 137,
   "metadata": {},
   "outputs": [
    {
     "name": "stdout",
     "output_type": "stream",
     "text": [
      "Accuracy of 0 : 100 %\n",
      "Accuracy of 1 : 97 %\n",
      "Accuracy of 2 : 97 %\n",
      "Accuracy of 3 : 94 %\n",
      "Accuracy of 4 : 96 %\n",
      "Accuracy of 5 : 98 %\n",
      "Accuracy of 6 : 99 %\n",
      "Accuracy of 7 : 97 %\n",
      "Accuracy of 8 : 94 %\n",
      "Accuracy of 9 : 96 %\n"
     ]
    }
   ],
   "source": [
    "class_correct = list(0. for i in range(10))\n",
    "class_total = list(0. for i in range(10))\n",
    "for x, labels in train_loader:\n",
    "    x,labels = Variable(x.cuda()), labels.cuda()\n",
    "    outputs = net(x)\n",
    "    _, predicted = torch.max(outputs.data, 1)\n",
    "    c = (predicted == labels).squeeze()\n",
    "    for i in range(4):\n",
    "        label = labels[i]\n",
    "        class_correct[label] += c[i]\n",
    "        class_total[label] += 1\n",
    "        \n",
    "for i in range(10):\n",
    "    print('Accuracy of %d : %2d %%' % (\n",
    "        i, 100 * class_correct[i] / class_total[i]))"
   ]
  },
  {
   "cell_type": "code",
   "execution_count": 101,
   "metadata": {},
   "outputs": [
    {
     "data": {
      "text/plain": [
       "995"
      ]
     },
     "execution_count": 101,
     "metadata": {},
     "output_type": "execute_result"
    }
   ],
   "source": [
    "# target=Variable(torch.LongTensor(3).random_(5))\n",
    "# input = Variable(torch.randn(3, 5), requires_grad=True)\n",
    "# criterion(input, target)\n",
    "# list(train_loader)[0][1]\n",
    "x=Variable(list(train_loader)[0][0][:].cuda())\n",
    "np.argmax(net(x).cpu().detach().numpy())"
   ]
  },
  {
   "cell_type": "code",
   "execution_count": 100,
   "metadata": {},
   "outputs": [
    {
     "data": {
      "text/plain": [
       "<matplotlib.image.AxesImage at 0x7f2613cce748>"
      ]
     },
     "execution_count": 100,
     "metadata": {},
     "output_type": "execute_result"
    },
    {
     "data": {
      "image/png": "[encoded data removed]",
      "text/plain": [
       "<matplotlib.figure.Figure at 0x7f2613ca2278>"
      ]
     },
     "metadata": {},
     "output_type": "display_data"
    }
   ],
   "source": [
    "import matplotlib.pyplot as plt\n",
    "plt.imshow(x.cpu().numpy()[0,0])"
   ]
  },
  {
   "cell_type": "code",
   "execution_count": 99,
   "metadata": {},
   "outputs": [
    {
     "data": {
      "text/plain": [
       "(1, 1, 28, 28)"
      ]
     },
     "execution_count": 99,
     "metadata": {},
     "output_type": "execute_result"
    }
   ],
   "source": [
    "x.cpu().numpy().shape"
   ]
  },
  {
   "cell_type": "code",
   "execution_count": 108,
   "metadata": {},
   "outputs": [],
   "source": [
    "# import copy\n",
    "import pickle\n",
    "pickle.dump(net.state_dict(), open(\"trained_mnist_classifier.pkl\",\"wb\"))"
   ]
  },
  {
   "cell_type": "code",
   "execution_count": null,
   "metadata": {},
   "outputs": [],
   "source": []
  }
 ],
 "metadata": {
  "kernelspec": {
   "display_name": "Python 3",
   "language": "python",
   "name": "python3"
  },
  "language_info": {
   "codemirror_mode": {
    "name": "ipython",
    "version": 3
   },
   "file_extension": ".py",
   "mimetype": "text/x-python",
   "name": "python",
   "nbconvert_exporter": "python",
   "pygments_lexer": "ipython3",
   "version": "3.5.2"
  }
 },
 "nbformat": 4,
 "nbformat_minor": 2
}
